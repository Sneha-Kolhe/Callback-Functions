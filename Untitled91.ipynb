{
 "cells": [
  {
   "cell_type": "markdown",
   "id": "ec11e01e-b0e6-435e-a5a1-9efe80050afd",
   "metadata": {},
   "source": [
    "## Q1. Install and load the latest versions of TensorFlow and Keras. Print their versions."
   ]
  },
  {
   "cell_type": "code",
   "execution_count": null,
   "id": "b375122c-8443-4d4d-8fdd-092c70c8949e",
   "metadata": {},
   "outputs": [],
   "source": [
    "Install TensorFlow:\n",
    "You can install TensorFlow using pip. Open your terminal or command prompt and run the following command:\n",
    "\n",
    "Copy code\n",
    "pip install tensorflow\n",
    "Load TensorFlow and Keras in Python:\n",
    "Once TensorFlow is installed, you can load it in Python along with Keras. Open a Python environment (e.g., Jupyter Notebook, Python script) and import TensorFlow and Keras:\n",
    "\n",
    "python\n",
    "Copy code\n",
    "import tensorflow as tf\n",
    "from tensorflow import keras\n",
    "\n",
    "# Print TensorFlow version\n",
    "print(\"TensorFlow version:\", tf.__version__)\n",
    "\n",
    "# Print Keras version (included in TensorFlow)\n",
    "print(\"Keras version:\", keras.__version__)\n",
    "This will import TensorFlow and Keras into your Python environment and print their versions.\n",
    "\n",
    "Run the Script:\n",
    "Save the above Python script and run it in your Python environment. It will print the versions of TensorFlow and Keras that you have installed."
   ]
  },
  {
   "cell_type": "code",
   "execution_count": null,
   "id": "3d1346b9-699a-4cb3-b7a3-764a5e33eb4e",
   "metadata": {},
   "outputs": [],
   "source": []
  }
 ],
 "metadata": {
  "kernelspec": {
   "display_name": "Python 3 (ipykernel)",
   "language": "python",
   "name": "python3"
  },
  "language_info": {
   "codemirror_mode": {
    "name": "ipython",
    "version": 3
   },
   "file_extension": ".py",
   "mimetype": "text/x-python",
   "name": "python",
   "nbconvert_exporter": "python",
   "pygments_lexer": "ipython3",
   "version": "3.10.8"
  }
 },
 "nbformat": 4,
 "nbformat_minor": 5
}
